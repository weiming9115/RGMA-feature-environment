{
 "cells": [
  {
   "cell_type": "code",
   "execution_count": null,
   "id": "d90e07e7-f596-431b-bd2f-e9724c2c213b",
   "metadata": {
    "tags": []
   },
   "outputs": [],
   "source": [
    "import os\n",
    "#ncore = \"1\"\n",
    "#os.environ[\"OMP_NUM_THREADS\"] = ncore\n",
    "#os.environ[\"OPENBLAS_NUM_THREADS\"] = ncore\n",
    "#os.environ[\"MKL_NUM_THREADS\"] = ncore\n",
    "#os.environ[\"VECLIB_MAXIMUM_THREADS\"] = ncore\n",
    "#os.environ[\"NUMEXPR_NUM_THREADS\"] = ncore\n",
    "import sys\n",
    "import json\n",
    "import xarray as xr\n",
    "import numpy as np\n",
    "import pandas as pd\n",
    "from datetime import datetime\n",
    "from pathlib import Path\n",
    "from functools import partial\n",
    "import warnings\n",
    "\n",
    "warnings.filterwarnings('ignore')"
   ]
  },
  {
   "cell_type": "code",
   "execution_count": null,
   "id": "6299970e-708f-46e0-baaf-27a9436ba127",
   "metadata": {
    "tags": []
   },
   "outputs": [],
   "source": [
    "sys.path.append('/pscratch/sd/w/wmtsai/featenv_analysis/runscripts/')\n",
    "os.chdir('/pscratch/sd/w/wmtsai/featenv_analysis/config/config_track_env')\n",
    "from feature_environment_module_CMIP import *\n",
    "from multiprocessing import Pool\n",
    "\n",
    "# read feature and variable settings from .json files\n",
    "feature_json = open('feature_list.jsonc')\n",
    "variable_json = open('varible_list.CMIP6.jsonc')\n",
    "feature_settings = json.load(feature_json)\n",
    "variable_settings = json.load(variable_json)\n",
    "\n",
    "# call the feature-environemnt module\n",
    "featenv = ds_feature_environment()\n",
    "print('version: ', featenv.__version__)\n",
    "featenv.name = feature_settings['feature'][0]['name']\n",
    "featenv.feature_data_sources = feature_settings['feature'][0]['feature_sources']\n",
    "featenv.environmental_data_sources = feature_settings['feature'][0]['feature_environment_sources']\n",
    "featenv.track_frequency = feature_settings['feature'][0]['track_frequency']\n",
    "featenv.env_frequency = feature_settings['feature'][0]['track_frequency']\n",
    "featenv.feature_track = eval(feature_settings['feature'][0]['is_feature_track'])\n",
    "featenv.feature_mask = eval(feature_settings['feature'][0]['is_feature_mask'])\n",
    "featenv.box_size_degree = int(feature_settings['feature'][0]['box_size_degree'])\n",
    "featenv.is_same_latlon = eval(feature_settings['feature'][0]['is_same_latlon'])"
   ]
  },
  {
   "cell_type": "code",
   "execution_count": null,
   "id": "7e9be998-2eef-41be-927b-9a85fe2a465b",
   "metadata": {
    "tags": []
   },
   "outputs": [],
   "source": [
    "# matching default ERA-5\n",
    "if featenv.is_same_latlon:\n",
    "    var_name = variable_settings['variable_inputs'][0]['varname_infile']\n",
    "    var_dir = Path(variable_settings['variable_inputs'][0]['var_dir'])\n",
    "    files = list(var_dir.glob('*.nc'))\n",
    "    ds = xr.open_dataset(files[0]) # read the data to get lat-lon information\n",
    "    try:\n",
    "        featenv.lon_env = ds.lon.values\n",
    "        featenv.lat_env = ds.lat.values\n",
    "    except:\n",
    "        featenv.lon_env = ds.longitude.values\n",
    "        featenv.lat_env = ds.latitude.values\n",
    "    print('Feature and Environment in the same lat/lon coordinate...')\n",
    "    print('longitude grid points:', len(featenv.lon_env))\n",
    "    print('latitude grid points:', len(featenv.lat_env))\n",
    "\n",
    "else:\n",
    "    print('Default coordinated lat/lon: ERA-5, 0.25-deg.')\n",
    "    featenv.lon_env = np.arange(0,360,0.25)\n",
    "    featenv.lat_env = np.arange(-90,90.25,0.25)\n",
    "    \n",
    "    print('longitude grid points:', len(featenv.lon_env))\n",
    "    print('latitude grid points:', len(featenv.lat_env))"
   ]
  },
  {
   "cell_type": "code",
   "execution_count": null,
   "id": "dd690696-1135-4ea5-be30-e3763440aa15",
   "metadata": {
    "tags": []
   },
   "outputs": [],
   "source": [
    "# locate and read the preprocessed track file\n",
    "featenv.track_data =  xr.open_dataset(feature_settings['feature'][0]['track_data'], decode_times=True)\n",
    "coords_track = []\n",
    "vars_track = []\n",
    "for i in featenv.track_data.dims:\n",
    "    coords_track.append(i)\n",
    "for i in featenv.track_data.keys():\n",
    "    vars_track.append(i)\n",
    "\n",
    "a = set(coords_track)\n",
    "b = set(['tracks','time'])\n",
    "c = set(vars_track)\n",
    "d = set(['base_time','meanlon','meanlat'])\n",
    "if (a & b) == {'time','tracks'} and (c & d) == {'base_time','meanlon','meanlat'}:\n",
    "    print('Track data...ready: {}'.format(feature_settings['feature'][0]['track_data']))\n",
    "else:\n",
    "    print('track input error')\n",
    "    #sys.exit('Incorret input format...Check the input file') # exit due to an incorrect track file"
   ]
  },
  {
   "cell_type": "code",
   "execution_count": null,
   "id": "ccde1c4e-e347-474d-9d39-64692eb76da2",
   "metadata": {
    "tags": []
   },
   "outputs": [],
   "source": [
    "tmp = xr.open_dataset(feature_settings['feature'][0]['track_data'], decode_times=True)\n",
    "str(tmp.isel(time=0, tracks=0).base_time.values)[:4]"
   ]
  },
  {
   "cell_type": "code",
   "execution_count": null,
   "id": "289a70ba-054a-4818-8010-b404fc3fbba5",
   "metadata": {
    "tags": []
   },
   "outputs": [],
   "source": [
    "temp = xr.open_dataset('/pscratch/sd/w/wmtsai/featenv_analysis/dataset/MCS_FLEXTRKR_tropics/1950/environment_catalogs/VARS_2D/MCS_FLEXTRKR_tropics_rlut.merged.nc')\n",
    "temp2 = xr.open_dataset('/pscratch/sd/w/wmtsai/featenv_analysis/dataset/MCS_FLEXTRKR_tropics/1950/environment_catalogs/VARS_2D/MCS_FLEXTRKR_tropics_pr.merged.nc')\n",
    "temp3 = xr.open_dataset('/pscratch/sd/w/wmtsai/featenv_analysis/dataset/MCS_FLEXTRKR_tropics/1950/environment_catalogs/VARS_2D/MCS_FLEXTRKR_tropics_cloudtracknumber.merged.nc')"
   ]
  },
  {
   "cell_type": "code",
   "execution_count": null,
   "id": "2265f758-0b06-47e6-9b2e-53075216b84e",
   "metadata": {
    "tags": []
   },
   "outputs": [],
   "source": [
    "temp.isel(tracks=1,time=1).base_time.values"
   ]
  },
  {
   "cell_type": "code",
   "execution_count": null,
   "id": "1cab699f-2c6a-499e-b6b6-11bdfc1d82d0",
   "metadata": {
    "tags": []
   },
   "outputs": [],
   "source": [
    "#temp.isel(tracks=1, time=0).rlut.plot()\n",
    "#Tf = tb(a+b*Tb) where a = 1.228 and b = -1.106e-3\n",
    "temp_rlut = temp.isel(tracks=1, time=0).rlut\n",
    "a = 1.228\n",
    "b = -1.106e-3\n",
    "sigma = 5.67e-8\n",
    "tf = (temp_rlut/sigma)**0.25\n",
    "tb = (-a + np.sqrt(a**2 + 4*b*tf))/(2*b)\n",
    "\n",
    "tb.plot.contour(levels=[240,250], colors=['m'], zorder=3)\n",
    "tb.plot.contour(levels=[250,255,260], colors=['k'],zorder=2)\n",
    "\n",
    "temp2.isel(tracks=1, time=0).pr.plot.contour(cmap='jet')\n",
    "(temp3.isel(tracks=1, time=0).cloudtracknumber.fillna(0)).plot()"
   ]
  },
  {
   "cell_type": "code",
   "execution_count": null,
   "id": "51c88329-96e3-4a05-a381-0c67424b2a84",
   "metadata": {
    "tags": []
   },
   "outputs": [],
   "source": [
    "np.unique(temp3.cloudtracknumber.isel(tracks=1,time=0))"
   ]
  },
  {
   "cell_type": "code",
   "execution_count": null,
   "id": "fa334451-4cb3-4888-8d1e-c109cd3b739a",
   "metadata": {
    "tags": []
   },
   "outputs": [],
   "source": [
    "# check MCS data\n",
    "test = xr.open_dataset('/global/cfs/cdirs/m4374/input_datasets/year2_EC-Earth3P-HR_highressst-present_r3i1f1p1/CMIP6HighResMIPEC-Earth-ConsortiumEC-Earth3P-HRhighresSST-presentr3i1p1f1grv20190509/rlut/rlut_E3hr_EC-Earth3P-HR_highresSST-present_r3i1p1f1_gr_201101010000-201112312100.nc')\n",
    "lon_env = test.lon.values\n",
    "lat_env = test.lat.values\n",
    "\n",
    "mcs_dir = Path('/global/cfs/cdirs/m4374/catalogues/raw_catalogue_files/highresmip/CMIP6HighResMIPEC-Earth-ConsortiumEC-Earth3P-HRhighresSST-presentr3i1p1f1grv20190509/MCS/mcstracking/19500101.0000_19501231.2100')\n",
    "mcs_orig = xr.open_dataset(mcs_dir / 'mcstrack_19500110_0600.nc')\n",
    "mcs_orig.coords['lon'] = lon_env\n",
    "mcs_orig.coords['lat'] = lat_env"
   ]
  },
  {
   "cell_type": "code",
   "execution_count": null,
   "id": "e1546858-b91c-48c0-b29e-cd5763efdca4",
   "metadata": {
    "tags": []
   },
   "outputs": [],
   "source": [
    "mcs_orig.isel(time=0).cloudtracknumber.sel(lon = temp.isel(tracks=1,time=1).lon.values, \n",
    "                                           lat = temp.isel(tracks=1,time=1).lat.values).plot()"
   ]
  },
  {
   "cell_type": "code",
   "execution_count": null,
   "id": "37534274-027a-4ff7-a113-199e5dd68724",
   "metadata": {
    "tags": []
   },
   "outputs": [],
   "source": [
    "np.unique(mcs_orig.isel(time=0).cloudtracknumber.sel(lon = temp.isel(tracks=1,time=0).lon.values, \n",
    "                                           lat = temp.isel(tracks=1,time=0).lat.values, method='nearest'))"
   ]
  },
  {
   "cell_type": "code",
   "execution_count": null,
   "id": "94f37d1d-7642-4c9f-97b8-6dede458e5e9",
   "metadata": {},
   "outputs": [],
   "source": []
  }
 ],
 "metadata": {
  "kernelspec": {
   "display_name": "flextrkr",
   "language": "python",
   "name": "env"
  },
  "language_info": {
   "codemirror_mode": {
    "name": "ipython",
    "version": 3
   },
   "file_extension": ".py",
   "mimetype": "text/x-python",
   "name": "python",
   "nbconvert_exporter": "python",
   "pygments_lexer": "ipython3",
   "version": "3.11.10"
  }
 },
 "nbformat": 4,
 "nbformat_minor": 5
}
