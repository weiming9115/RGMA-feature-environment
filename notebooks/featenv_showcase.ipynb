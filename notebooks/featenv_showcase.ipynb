{
 "cells": [
  {
   "cell_type": "markdown",
   "id": "30a0afbb-b85e-46ac-b41c-af2130a39ff8",
   "metadata": {},
   "source": [
    "#### RGMA feature-precipitation-environment dataset \n",
    "- a prototpye of dataset generation using a module\n",
    "- standard input data indicating the location of the track or object\n",
    "- standard 2-D / 3-D output\n",
    "- a showcase for TC tracks "
   ]
  },
  {
   "cell_type": "code",
   "execution_count": null,
   "id": "6443480e-5d27-450a-a38d-acef0346d1db",
   "metadata": {
    "tags": []
   },
   "outputs": [],
   "source": [
    "import os\n",
    "import sys\n",
    "import xarray as xr\n",
    "import numpy as np\n",
    "import matplotlib\n",
    "import pandas as pd\n",
    "from matplotlib import pyplot as plt\n",
    "from matplotlib.colors import ListedColormap, LinearSegmentedColormap\n",
    "from datetime import datetime\n",
    "from pathlib import Path\n",
    "import cartopy.crs as ccrs\n",
    "import warnings"
   ]
  },
  {
   "cell_type": "code",
   "execution_count": null,
   "id": "97bf18c2-42f6-4bde-8736-550e40505e6f",
   "metadata": {
    "tags": []
   },
   "outputs": [],
   "source": [
    "warnings.filterwarnings('ignore')"
   ]
  },
  {
   "cell_type": "markdown",
   "id": "e23bf193-4382-48be-83d0-8493bf4e967a",
   "metadata": {},
   "source": [
    "#### load feature-environent module v1.0\n",
    "- load the module including class \"ds_feature_environment\""
   ]
  },
  {
   "cell_type": "code",
   "execution_count": null,
   "id": "cba1b4ef-83f5-4a3f-86f0-ed0953294773",
   "metadata": {
    "tags": []
   },
   "outputs": [],
   "source": [
    "os.chdir('/scratch/wmtsai/featenv_test/')"
   ]
  },
  {
   "cell_type": "code",
   "execution_count": null,
   "id": "925969ae-9aae-47e1-aaf4-cd2fb2a7913c",
   "metadata": {
    "tags": []
   },
   "outputs": [],
   "source": [
    "from feature_environment_module import *\n",
    "import json"
   ]
  },
  {
   "cell_type": "code",
   "execution_count": null,
   "id": "33a410e7-c983-4fed-94eb-e3beef87c677",
   "metadata": {
    "tags": []
   },
   "outputs": [],
   "source": [
    "# read feature_list.json and variable_list.json as inputs\n",
    "\n",
    "main_dir = Path('/scratch/wmtsai/featenv_test/')\n",
    "\n",
    "feature_json = open(main_dir / 'feature_list.json')\n",
    "variable_json = open(main_dir / 'varible_list.json')\n",
    "feature_settings = json.load(feature_json)\n",
    "variable_settings = json.load(variable_json)"
   ]
  },
  {
   "cell_type": "code",
   "execution_count": null,
   "id": "262d5d55-6689-407e-a869-591beb322bd0",
   "metadata": {
    "tags": []
   },
   "outputs": [],
   "source": [
    "# call the feature-environemnt module\n",
    "featenv = ds_feature_environment()\n",
    "print('version: ', featenv.__version__)\n",
    "featenv.name = feature_settings['feature'][0]['name']\n",
    "featenv.feature_data_sources = feature_settings['feature'][0]['feature_sources']\n",
    "featenv.environmental_data_sources = feature_settings['feature'][0]['feature_environment_sources']\n",
    "featenv.track_frequency = feature_settings['feature'][0]['track_frequency']\n",
    "featenv.env_frequency = feature_settings['feature'][0]['track_frequency']\n",
    "featenv.feature_track = eval(feature_settings['feature'][0]['is_feature_track'])\n",
    "featenv.feature_mask = eval(feature_settings['feature'][0]['is_feature_mask'])\n",
    "featenv.lon_env = np.arange(0,360,0.25)\n",
    "featenv.lat_env = np.arange(-90,90.25,0.25)\n",
    "\n",
    "year_process = 2014\n",
    "\n",
    "# create directories according to the above descriptions\n",
    "main_dir = '/scratch/wmtsai/featenv_test/{}/{}/'.format(featenv.name, year_process)\n",
    "featenv.create_featenv_directory(main_dir)\n",
    "\n",
    "# locate and read the preprocessed track file\n",
    "featenv.track_data =  xr.open_dataset(feature_settings['feature'][0]['track_data'])\n",
    "# check dimensions: coords=[ tracks, time ] variables=[ base_time, meanlat, meanlon ]\n",
    "coords_track = []\n",
    "vars_track = []\n",
    "for i in featenv.track_data.dims:\n",
    "    coords_track.append(i)\n",
    "for i in featenv.track_data.keys():\n",
    "    vars_track.append(i)\n",
    "\n",
    "a = set(coords_track)\n",
    "b = set(['tracks','time'])\n",
    "c = set(vars_track)\n",
    "d = set(['base_time','meanlon','meanlat'])\n",
    "if ((a & b) == {'time','tracks'}) and ((c & d) == {'base_time','meanlon','meanlat'}):\n",
    "    print('Track data...ready')\n",
    "else:\n",
    "    sys.exit('Incorret input format...Check the input file') # exit due to an incorrect track file\n",
    "\n",
    "(featenv.track_data).to_netcdf(featenv.track_dir / 'track_geoinfo.nc')"
   ]
  },
  {
   "cell_type": "code",
   "execution_count": null,
   "id": "6aefc3ea-37a1-43a5-b88d-91d481808e57",
   "metadata": {
    "tags": []
   },
   "outputs": [],
   "source": [
    "featenv.variable_format"
   ]
  },
  {
   "cell_type": "code",
   "execution_count": null,
   "id": "dfbeb2e3-9e27-4b9f-ae9c-abc7f7739324",
   "metadata": {
    "tags": []
   },
   "outputs": [],
   "source": [
    "year = str(2014)\n",
    "month = str(1).zfill(2)\n",
    "day = str(20).zfill(2)\n",
    "hour = str(12).zfill(2)\n",
    "\n",
    "var = 'T'\n",
    "\n",
    "data_dir = Path(str(featenv.locate_env_data[var]))\n",
    "data_str = featenv.variable_format[var]\n",
    "# modify the default file string with datetime info\n",
    "tmp = data_str.replace('X',var).replace('YYYY',year).replace('MM',month)\n",
    "tmp = tmp.replace('DD',day).replace('HH',hour)\n",
    "filename = data_dir /'{}'.format(year)/ tmp\n",
    "\n",
    "filename"
   ]
  },
  {
   "cell_type": "code",
   "execution_count": null,
   "id": "d31fdaa5-a283-4261-b53b-9619e76a9b5a",
   "metadata": {
    "tags": []
   },
   "outputs": [],
   "source": [
    "featenv.env3d_dir"
   ]
  },
  {
   "cell_type": "code",
   "execution_count": null,
   "id": "c1e88ed4-b93d-4cb0-bdcb-15b3361ebb11",
   "metadata": {
    "tags": []
   },
   "outputs": [],
   "source": [
    "# load preprocessed track data\n",
    "track_dir = Path('/neelin2020/TempestExtremes/TC')\n",
    "track_data = featenv.load_track_data(track_dir / 'ERA5_TC_tracks_2014.nc')\n",
    "featenv.track_data = track_data.isel(tracks=slice(0,10)) # first 10 tracks as examples\n",
    "# save into feature_catalogs/track/\n",
    "(featenv.track_data).to_netcdf(featenv.track_dir / '{}_geoinfo.2014.nc'.format(featenv.name))"
   ]
  },
  {
   "cell_type": "code",
   "execution_count": null,
   "id": "d139acc2-171e-4049-8ff2-8935a8d4dddf",
   "metadata": {
    "tags": []
   },
   "outputs": [],
   "source": [
    "%%time\n",
    "# extract feat-env data for individual tracks\n",
    "ds_merged = []\n",
    "for track in featenv.track_data.tracks.values[:3]: # take the first 100 tracks as example\n",
    "    ds_env_vars = featenv.get_environment_vars_track(track_id=track, lat_range=15, lon_range=15)\n",
    "    ds_feat_vars = featenv.get_feature_vars_track(track_id=track, lat_range=15, lon_range=15)\n",
    "    ds_vars = xr.merge([ds_env_vars, ds_feat_vars], compat='override') # some float differeces. TBD\n",
    "    ds_merged.append(ds_vars)\n",
    "ds_merged_xr = xr.concat(ds_merged, dim=pd.Index(featenv.track_data.tracks.values[:3], name='tracks'))"
   ]
  },
  {
   "cell_type": "code",
   "execution_count": null,
   "id": "a5342226-d2cb-4b63-8dff-37878c34bc25",
   "metadata": {
    "tags": []
   },
   "outputs": [],
   "source": [
    "%%time\n",
    "# save feature and environmental variables accordingly\n",
    "for var in ds_merged_xr.keys():\n",
    "\n",
    "    if var != 'base_time':\n",
    "        ds = ds_merged_xr[var]\n",
    "        check3d = [i for i in ds.dims if i == 'level']\n",
    "        if check3d and len(ds.dims) > 2:\n",
    "            out_dir = featenv.env3d_dir\n",
    "        elif len(ds.dims) > 2:\n",
    "            out_dir = featenv.env2d_dir\n",
    "\n",
    "        print(out_dir)\n",
    "        ds.to_netcdf(out_dir / '{}_{}_merged.nc'.format(featenv.name, var), encoding={var: {'dtype': 'float32'}})\n",
    "        print('save file: {}_{}_merged.nc'.format(featenv.name, var))"
   ]
  },
  {
   "cell_type": "markdown",
   "id": "04e0a06e-1c15-437e-a27c-925eaa1cbf17",
   "metadata": {},
   "source": [
    "#### showcase "
   ]
  },
  {
   "cell_type": "code",
   "execution_count": null,
   "id": "c162dc50-799a-4384-8679-0bbdb8e2eba1",
   "metadata": {
    "tags": []
   },
   "outputs": [],
   "source": [
    "def TC_env_plot(featenv_name, year, track_id):\n",
    "    \"\"\"\n",
    "    plot tb, precip, wind vector, slp etc.\n",
    "    \"\"\"\n",
    "    \n",
    "    # figure configuration 3 x 3\n",
    "    fig,((ax1,ax2,ax3),(ax4,ax5,ax6),(ax7,ax8,ax9)) = plt.subplots(3,3,figsize=(6,6))\n",
    "    \n",
    "    track_dir = Path('/scratch/wmtsai/featenv_test/{}/{}/feature_catalogs/track'.format(featenv_name,year))\n",
    "    env2d_dir = Path('/scratch/wmtsai/featenv_test/{}/{}/environment_catalogs/VARS_2D'.format(featenv_name,year))\n",
    "    env3d_dir = Path('/scratch/wmtsai/featenv_test/{}/{}/environment_catalogs/VARS_3D'.format(featenv_name,year))\n",
    "    \n",
    "    ds = xr.open_dataset(track_dir / '{}_geoinfo.2014.nc'.format(featenv_name))\n",
    "    ds_track = ds.isel(tracks=track_id)\n",
    "    \n",
    "    var2d_list = ['tb', 'precipitation', 'msl']\n",
    "    ds_list = []\n",
    "    for var in var2d_list:\n",
    "        ds = xr.open_dataset(env2d_dir / '{}_{}_merged.nc'.format(featenv_name, var))\n",
    "        ds_sub = ds.isel(tracks=track_id)\n",
    "        ds_list.append(ds_sub)\n",
    "    ds_env = xr.merge(ds_list)\n",
    "    \n",
    "    # split the entire track into 9 timesteps: 4 before SLP_min and 4 after\n",
    "    ds_subtime = []\n",
    "    idt_slpmin = ds_track.slp.argmin('time')\n",
    "    idx_end = np.where(np.isnat(ds_track.base_time.values))[0][0]\n",
    "    total_length = idx_end - 1\n",
    "    \n",
    "    if ( (idt_slpmin >= 4) and ((total_length - idt_slpmin) >= 4) ):\n",
    "        time_sel = np.concatenate((np.linspace(0, idt_slpmin, 5, dtype='int'), \n",
    "                                   np.linspace(idt_slpmin, total_length, 5, dtype='int')[1:]))\n",
    "        ds_track_subtime = ds_track.isel(time=time_sel)\n",
    "        ds_env_subtime = ds_env.isel(time=time_sel)\n",
    "        \n",
    "    else:\n",
    "        \n",
    "        data_track_subtime = ds_track\n",
    "        data_env_subtime = ds_env\n",
    "\n",
    "    for t,ax in enumerate([ax1,ax2,ax3,ax4,ax5,ax6,ax7,ax8,ax9]):\n",
    "        # Tb\n",
    "        dst = ds_track_subtime.isel(time=t)\n",
    "        dse = ds_env_subtime.isel(time=t)\n",
    "        ax.pcolormesh(dse.x, dse.y, dse.tb, vmin=220, vmax=280, cmap='Blues')\n",
    "        # precip.\n",
    "        ax.contour(dse.x, dse.y, dse.precipitation, levels=[5,10,15], colors=['m'], linewidths=1)\n",
    "        # surface pressure\n",
    "        cf = ax.contour(dse.x, dse.y, dse.msl/100, levels=np.arange(980,1012,4), colors=['green'], linewidths=1)\n",
    "        ax.clabel(cf, inline=None, fontsize=5)\n",
    "        ## u,v wind vector @850hPa\n",
    "        #ax.quiver(dse.x[::5], dse.y[::5], dse.u[::5,::5], dse.v[::5,::5], color='yellow')\n",
    "        \n",
    "        ax.set_title(str(dst.base_time.values)[:13], fontsize=9, y=0.97)        \n",
    "        ax.tick_params(labelsize=7)\n",
    "        \n",
    "        ax.spines['bottom'].set_color('w')\n",
    "        ax.spines['top'].set_color('w')\n",
    "        ax.spines['left'].set_color('w')\n",
    "        ax.spines['right'].set_color('w')\n",
    "        \n",
    "    plt.tight_layout(h_pad=0.03, w_pad=0.01)\n",
    "    \n",
    "    ax5.spines['bottom'].set_color('r')\n",
    "    ax5.spines['top'].set_color('r')\n",
    "    ax5.spines['left'].set_color('r')\n",
    "    ax5.spines['right'].set_color('r')\n",
    "    \n",
    "    plt.suptitle('Tropical cyclone: No. {}, {}'.format(track_id, year), y=1.02, fontsize=10)\n",
    "\n",
    "    return ds_env_subtime"
   ]
  },
  {
   "cell_type": "code",
   "execution_count": null,
   "id": "2c802a4d-7f55-4818-864f-2a680a9db9e5",
   "metadata": {},
   "outputs": [],
   "source": []
  },
  {
   "cell_type": "code",
   "execution_count": null,
   "id": "957c4f3d-41ef-42b7-b022-2c0c3ba25a45",
   "metadata": {},
   "outputs": [],
   "source": []
  },
  {
   "cell_type": "code",
   "execution_count": null,
   "id": "9e372ddd-7c5c-4f34-80e0-5cdae791492c",
   "metadata": {},
   "outputs": [],
   "source": []
  },
  {
   "cell_type": "code",
   "execution_count": null,
   "id": "ed7ee2db-bae4-4500-aac0-5734934ac64d",
   "metadata": {
    "tags": []
   },
   "outputs": [],
   "source": [
    "out_dir = Path('/scratch/wmtsai/featenv_test/TC_TempestExtremes/2014/')"
   ]
  },
  {
   "cell_type": "code",
   "execution_count": null,
   "id": "578b57fc-b638-4ae7-9a4a-95ae1c22027f",
   "metadata": {},
   "outputs": [],
   "source": [
    "geotrack = xr.open_dataset(out_dir / 'feature_catalogs/track/track_geoinfo.nc')"
   ]
  },
  {
   "cell_type": "code",
   "execution_count": null,
   "id": "a866e2e9-21ce-415d-9f3a-4d1b7786519a",
   "metadata": {
    "tags": []
   },
   "outputs": [],
   "source": [
    "tmp = geotrack.isel(tracks=0).base_time.values\n",
    "idt_length = np.where(np.isnat(tmp))[0]"
   ]
  },
  {
   "cell_type": "code",
   "execution_count": null,
   "id": "ed41503e-4127-479a-bb0c-524a68d82904",
   "metadata": {
    "tags": []
   },
   "outputs": [],
   "source": [
    "for n in range(len(geotrack.tracks)):\n",
    "    \n",
    "    tmp = geotrack.isel(tracks=n).base_time.values\n",
    "    idt_length = len(np.where(~np.isnat(tmp))[0])\n",
    "    print(idt_length)"
   ]
  },
  {
   "cell_type": "code",
   "execution_count": null,
   "id": "19e805ab-a94c-4492-b1c1-fb2c99ac5adc",
   "metadata": {},
   "outputs": [],
   "source": []
  }
 ],
 "metadata": {
  "kernelspec": {
   "display_name": "base_kernel",
   "language": "python",
   "name": "base_kernel"
  },
  "language_info": {
   "codemirror_mode": {
    "name": "ipython",
    "version": 3
   },
   "file_extension": ".py",
   "mimetype": "text/x-python",
   "name": "python",
   "nbconvert_exporter": "python",
   "pygments_lexer": "ipython3",
   "version": "3.11.4"
  }
 },
 "nbformat": 4,
 "nbformat_minor": 5
}
